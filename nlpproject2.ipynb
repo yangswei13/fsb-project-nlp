{
 "cells": [
  {
   "cell_type": "markdown",
   "metadata": {},
   "source": [
    "###### CODE REFERENCE: RAKKA ALHAZIMI (FSB NLP)"
   ]
  },
  {
   "cell_type": "code",
   "execution_count": 8,
   "metadata": {},
   "outputs": [
    {
     "name": "stderr",
     "output_type": "stream",
     "text": [
      "[nltk_data] Downloading package punkt to\n",
      "[nltk_data]     C:\\Users\\ASUS\\AppData\\Roaming\\nltk_data...\n",
      "[nltk_data]   Package punkt is already up-to-date!\n"
     ]
    },
    {
     "data": {
      "text/plain": [
       "True"
      ]
     },
     "execution_count": 8,
     "metadata": {},
     "output_type": "execute_result"
    }
   ],
   "source": [
    "# Standard Library\n",
    "import string\n",
    "\n",
    "# Third-party Library\n",
    "import numpy as np\n",
    "import pandas as pd\n",
    "import matplotlib.pyplot as plt\n",
    "import seaborn as sns\n",
    "\n",
    "from sklearn.linear_model import LogisticRegression\n",
    "from sklearn.feature_extraction.text import CountVectorizer\n",
    "\n",
    "import nltk\n",
    "from nltk.corpus import stopwords\n",
    "nltk.download(\"punkt\")"
   ]
  },
  {
   "cell_type": "code",
   "execution_count": 2,
   "metadata": {},
   "outputs": [
    {
     "name": "stderr",
     "output_type": "stream",
     "text": [
      "[nltk_data] Downloading package stopwords to\n",
      "[nltk_data]     C:\\Users\\ASUS\\AppData\\Roaming\\nltk_data...\n",
      "[nltk_data]   Package stopwords is already up-to-date!\n"
     ]
    }
   ],
   "source": [
    "# Siapkan stopwords\n",
    "\n",
    "nltk.download(\"stopwords\")\n",
    "id_stop = set(stopwords.words(\"indonesian\"))"
   ]
  },
  {
   "cell_type": "markdown",
   "metadata": {},
   "source": [
    "### Load Dataset"
   ]
  },
  {
   "cell_type": "code",
   "execution_count": 3,
   "metadata": {},
   "outputs": [],
   "source": [
    "df = pd.read_csv(\"Violence Report Data - Bahasa Indonesia - Sheet1.csv\")"
   ]
  },
  {
   "cell_type": "code",
   "execution_count": 4,
   "metadata": {},
   "outputs": [
    {
     "data": {
      "text/html": [
       "<div>\n",
       "<style scoped>\n",
       "    .dataframe tbody tr th:only-of-type {\n",
       "        vertical-align: middle;\n",
       "    }\n",
       "\n",
       "    .dataframe tbody tr th {\n",
       "        vertical-align: top;\n",
       "    }\n",
       "\n",
       "    .dataframe thead th {\n",
       "        text-align: right;\n",
       "    }\n",
       "</style>\n",
       "<table border=\"1\" class=\"dataframe\">\n",
       "  <thead>\n",
       "    <tr style=\"text-align: right;\">\n",
       "      <th></th>\n",
       "      <th>ID</th>\n",
       "      <th>kategori</th>\n",
       "      <th>isi_laporan</th>\n",
       "      <th>sentimen</th>\n",
       "    </tr>\n",
       "  </thead>\n",
       "  <tbody>\n",
       "    <tr>\n",
       "      <th>0</th>\n",
       "      <td>1</td>\n",
       "      <td>Fisik</td>\n",
       "      <td>Ibu saya sering pingsan dipukuli oleh ayah sam...</td>\n",
       "      <td>High</td>\n",
       "    </tr>\n",
       "    <tr>\n",
       "      <th>1</th>\n",
       "      <td>2</td>\n",
       "      <td>Psikis</td>\n",
       "      <td>Sejak kecil, ayah saya tidak menyukai penampil...</td>\n",
       "      <td>High</td>\n",
       "    </tr>\n",
       "    <tr>\n",
       "      <th>2</th>\n",
       "      <td>3</td>\n",
       "      <td>Seksual</td>\n",
       "      <td>Pagi tadi saya iseng mengunggah sebuah foto se...</td>\n",
       "      <td>High</td>\n",
       "    </tr>\n",
       "    <tr>\n",
       "      <th>3</th>\n",
       "      <td>4</td>\n",
       "      <td>Seksual</td>\n",
       "      <td>ANAK SAYA DIGERAYANGI OLEH LAKI-LAKI TIDAK DIK...</td>\n",
       "      <td>High</td>\n",
       "    </tr>\n",
       "    <tr>\n",
       "      <th>4</th>\n",
       "      <td>5</td>\n",
       "      <td>Fisik</td>\n",
       "      <td>Ada kasus pencabulan di SLB dekat rumah. Belum...</td>\n",
       "      <td>High</td>\n",
       "    </tr>\n",
       "    <tr>\n",
       "      <th>...</th>\n",
       "      <td>...</td>\n",
       "      <td>...</td>\n",
       "      <td>...</td>\n",
       "      <td>...</td>\n",
       "    </tr>\n",
       "    <tr>\n",
       "      <th>495</th>\n",
       "      <td>496</td>\n",
       "      <td>Seksual</td>\n",
       "      <td>Saya benci dengan kakak ipar saya, dia suka me...</td>\n",
       "      <td>High</td>\n",
       "    </tr>\n",
       "    <tr>\n",
       "      <th>496</th>\n",
       "      <td>497</td>\n",
       "      <td>penelantaran</td>\n",
       "      <td>Ayah saya pergi dan tidak pernah kembali karen...</td>\n",
       "      <td>High</td>\n",
       "    </tr>\n",
       "    <tr>\n",
       "      <th>497</th>\n",
       "      <td>498</td>\n",
       "      <td>Fisik</td>\n",
       "      <td>Kenalan saya mengadopsi anak, tapi karena anak...</td>\n",
       "      <td>High</td>\n",
       "    </tr>\n",
       "    <tr>\n",
       "      <th>498</th>\n",
       "      <td>499</td>\n",
       "      <td>Seksual</td>\n",
       "      <td>Kemarin saya bertemu lagi dengan teman SMA yan...</td>\n",
       "      <td>High</td>\n",
       "    </tr>\n",
       "    <tr>\n",
       "      <th>499</th>\n",
       "      <td>500</td>\n",
       "      <td>Seksual</td>\n",
       "      <td>Perilaku anak saya terlihat aneh dan ketakutan...</td>\n",
       "      <td>High</td>\n",
       "    </tr>\n",
       "  </tbody>\n",
       "</table>\n",
       "<p>500 rows × 4 columns</p>\n",
       "</div>"
      ],
      "text/plain": [
       "      ID      kategori                                        isi_laporan  \\\n",
       "0      1         Fisik  Ibu saya sering pingsan dipukuli oleh ayah sam...   \n",
       "1      2        Psikis  Sejak kecil, ayah saya tidak menyukai penampil...   \n",
       "2      3       Seksual  Pagi tadi saya iseng mengunggah sebuah foto se...   \n",
       "3      4       Seksual  ANAK SAYA DIGERAYANGI OLEH LAKI-LAKI TIDAK DIK...   \n",
       "4      5         Fisik  Ada kasus pencabulan di SLB dekat rumah. Belum...   \n",
       "..   ...           ...                                                ...   \n",
       "495  496       Seksual  Saya benci dengan kakak ipar saya, dia suka me...   \n",
       "496  497  penelantaran  Ayah saya pergi dan tidak pernah kembali karen...   \n",
       "497  498         Fisik  Kenalan saya mengadopsi anak, tapi karena anak...   \n",
       "498  499       Seksual  Kemarin saya bertemu lagi dengan teman SMA yan...   \n",
       "499  500       Seksual  Perilaku anak saya terlihat aneh dan ketakutan...   \n",
       "\n",
       "    sentimen  \n",
       "0       High  \n",
       "1       High  \n",
       "2       High  \n",
       "3       High  \n",
       "4       High  \n",
       "..       ...  \n",
       "495     High  \n",
       "496     High  \n",
       "497     High  \n",
       "498     High  \n",
       "499     High  \n",
       "\n",
       "[500 rows x 4 columns]"
      ]
     },
     "execution_count": 4,
     "metadata": {},
     "output_type": "execute_result"
    }
   ],
   "source": [
    "df"
   ]
  },
  {
   "cell_type": "markdown",
   "metadata": {},
   "source": [
    "### EDA"
   ]
  },
  {
   "cell_type": "code",
   "execution_count": 5,
   "metadata": {},
   "outputs": [
    {
     "name": "stderr",
     "output_type": "stream",
     "text": [
      "C:\\Users\\ASUS\\.conda\\envs\\FSB_new\\lib\\site-packages\\seaborn\\_decorators.py:43: FutureWarning: Pass the following variable as a keyword arg: x. From version 0.12, the only valid positional argument will be `data`, and passing other arguments without an explicit keyword will result in an error or misinterpretation.\n",
      "  FutureWarning\n"
     ]
    },
    {
     "data": {
      "image/png": "[encoded data removed]",
      "text/plain": [
       "<Figure size 648x432 with 1 Axes>"
      ]
     },
     "metadata": {
      "needs_background": "light"
     },
     "output_type": "display_data"
    }
   ],
   "source": [
    "# class distribution\n",
    "\n",
    "plt.figure(figsize=(9,6))\n",
    "sns.countplot(df['sentimen'])\n",
    "plt.title(\"Class Distribution\", weight=\"bold\")\n",
    "plt.show()"
   ]
  },
  {
   "cell_type": "markdown",
   "metadata": {},
   "source": [
    "### Text Preprocessing"
   ]
  },
  {
   "cell_type": "code",
   "execution_count": 6,
   "metadata": {},
   "outputs": [],
   "source": [
    "def text_preprocessing(text):\n",
    "    text = text.lower()\n",
    "    table = text.maketrans(\"\", \"\", string.punctuation)\n",
    "    text = text.translate(table)\n",
    "    return text"
   ]
  },
  {
   "cell_type": "code",
   "execution_count": 7,
   "metadata": {},
   "outputs": [],
   "source": [
    "df[\"preprocessed_text\"] = df[\"isi_laporan\"].map(text_preprocessing)"
   ]
  },
  {
   "cell_type": "code",
   "execution_count": 12,
   "metadata": {},
   "outputs": [
    {
     "data": {
      "text/html": [
       "<div>\n",
       "<style scoped>\n",
       "    .dataframe tbody tr th:only-of-type {\n",
       "        vertical-align: middle;\n",
       "    }\n",
       "\n",
       "    .dataframe tbody tr th {\n",
       "        vertical-align: top;\n",
       "    }\n",
       "\n",
       "    .dataframe thead th {\n",
       "        text-align: right;\n",
       "    }\n",
       "</style>\n",
       "<table border=\"1\" class=\"dataframe\">\n",
       "  <thead>\n",
       "    <tr style=\"text-align: right;\">\n",
       "      <th></th>\n",
       "      <th>ID</th>\n",
       "      <th>kategori</th>\n",
       "      <th>isi_laporan</th>\n",
       "      <th>sentimen</th>\n",
       "      <th>preprocessed_text</th>\n",
       "    </tr>\n",
       "  </thead>\n",
       "  <tbody>\n",
       "    <tr>\n",
       "      <th>0</th>\n",
       "      <td>1</td>\n",
       "      <td>Fisik</td>\n",
       "      <td>Ibu saya sering pingsan dipukuli oleh ayah sam...</td>\n",
       "      <td>High</td>\n",
       "      <td>ibu saya sering pingsan dipukuli oleh ayah sam...</td>\n",
       "    </tr>\n",
       "    <tr>\n",
       "      <th>1</th>\n",
       "      <td>2</td>\n",
       "      <td>Psikis</td>\n",
       "      <td>Sejak kecil, ayah saya tidak menyukai penampil...</td>\n",
       "      <td>High</td>\n",
       "      <td>sejak kecil ayah saya tidak menyukai penampila...</td>\n",
       "    </tr>\n",
       "    <tr>\n",
       "      <th>2</th>\n",
       "      <td>3</td>\n",
       "      <td>Seksual</td>\n",
       "      <td>Pagi tadi saya iseng mengunggah sebuah foto se...</td>\n",
       "      <td>High</td>\n",
       "      <td>pagi tadi saya iseng mengunggah sebuah foto se...</td>\n",
       "    </tr>\n",
       "    <tr>\n",
       "      <th>3</th>\n",
       "      <td>4</td>\n",
       "      <td>Seksual</td>\n",
       "      <td>ANAK SAYA DIGERAYANGI OLEH LAKI-LAKI TIDAK DIK...</td>\n",
       "      <td>High</td>\n",
       "      <td>anak saya digerayangi oleh lakilaki tidak dike...</td>\n",
       "    </tr>\n",
       "    <tr>\n",
       "      <th>4</th>\n",
       "      <td>5</td>\n",
       "      <td>Fisik</td>\n",
       "      <td>Ada kasus pencabulan di SLB dekat rumah. Belum...</td>\n",
       "      <td>High</td>\n",
       "      <td>ada kasus pencabulan di slb dekat rumah belum ...</td>\n",
       "    </tr>\n",
       "    <tr>\n",
       "      <th>...</th>\n",
       "      <td>...</td>\n",
       "      <td>...</td>\n",
       "      <td>...</td>\n",
       "      <td>...</td>\n",
       "      <td>...</td>\n",
       "    </tr>\n",
       "    <tr>\n",
       "      <th>495</th>\n",
       "      <td>496</td>\n",
       "      <td>Seksual</td>\n",
       "      <td>Saya benci dengan kakak ipar saya, dia suka me...</td>\n",
       "      <td>High</td>\n",
       "      <td>saya benci dengan kakak ipar saya dia suka men...</td>\n",
       "    </tr>\n",
       "    <tr>\n",
       "      <th>496</th>\n",
       "      <td>497</td>\n",
       "      <td>penelantaran</td>\n",
       "      <td>Ayah saya pergi dan tidak pernah kembali karen...</td>\n",
       "      <td>High</td>\n",
       "      <td>ayah saya pergi dan tidak pernah kembali karen...</td>\n",
       "    </tr>\n",
       "    <tr>\n",
       "      <th>497</th>\n",
       "      <td>498</td>\n",
       "      <td>Fisik</td>\n",
       "      <td>Kenalan saya mengadopsi anak, tapi karena anak...</td>\n",
       "      <td>High</td>\n",
       "      <td>kenalan saya mengadopsi anak tapi karena anak ...</td>\n",
       "    </tr>\n",
       "    <tr>\n",
       "      <th>498</th>\n",
       "      <td>499</td>\n",
       "      <td>Seksual</td>\n",
       "      <td>Kemarin saya bertemu lagi dengan teman SMA yan...</td>\n",
       "      <td>High</td>\n",
       "      <td>kemarin saya bertemu lagi dengan teman sma yan...</td>\n",
       "    </tr>\n",
       "    <tr>\n",
       "      <th>499</th>\n",
       "      <td>500</td>\n",
       "      <td>Seksual</td>\n",
       "      <td>Perilaku anak saya terlihat aneh dan ketakutan...</td>\n",
       "      <td>High</td>\n",
       "      <td>perilaku anak saya terlihat aneh dan ketakutan...</td>\n",
       "    </tr>\n",
       "  </tbody>\n",
       "</table>\n",
       "<p>500 rows × 5 columns</p>\n",
       "</div>"
      ],
      "text/plain": [
       "      ID      kategori                                        isi_laporan  \\\n",
       "0      1         Fisik  Ibu saya sering pingsan dipukuli oleh ayah sam...   \n",
       "1      2        Psikis  Sejak kecil, ayah saya tidak menyukai penampil...   \n",
       "2      3       Seksual  Pagi tadi saya iseng mengunggah sebuah foto se...   \n",
       "3      4       Seksual  ANAK SAYA DIGERAYANGI OLEH LAKI-LAKI TIDAK DIK...   \n",
       "4      5         Fisik  Ada kasus pencabulan di SLB dekat rumah. Belum...   \n",
       "..   ...           ...                                                ...   \n",
       "495  496       Seksual  Saya benci dengan kakak ipar saya, dia suka me...   \n",
       "496  497  penelantaran  Ayah saya pergi dan tidak pernah kembali karen...   \n",
       "497  498         Fisik  Kenalan saya mengadopsi anak, tapi karena anak...   \n",
       "498  499       Seksual  Kemarin saya bertemu lagi dengan teman SMA yan...   \n",
       "499  500       Seksual  Perilaku anak saya terlihat aneh dan ketakutan...   \n",
       "\n",
       "    sentimen                                  preprocessed_text  \n",
       "0       High  ibu saya sering pingsan dipukuli oleh ayah sam...  \n",
       "1       High  sejak kecil ayah saya tidak menyukai penampila...  \n",
       "2       High  pagi tadi saya iseng mengunggah sebuah foto se...  \n",
       "3       High  anak saya digerayangi oleh lakilaki tidak dike...  \n",
       "4       High  ada kasus pencabulan di slb dekat rumah belum ...  \n",
       "..       ...                                                ...  \n",
       "495     High  saya benci dengan kakak ipar saya dia suka men...  \n",
       "496     High  ayah saya pergi dan tidak pernah kembali karen...  \n",
       "497     High  kenalan saya mengadopsi anak tapi karena anak ...  \n",
       "498     High  kemarin saya bertemu lagi dengan teman sma yan...  \n",
       "499     High  perilaku anak saya terlihat aneh dan ketakutan...  \n",
       "\n",
       "[500 rows x 5 columns]"
      ]
     },
     "execution_count": 12,
     "metadata": {},
     "output_type": "execute_result"
    }
   ],
   "source": [
    "df"
   ]
  },
  {
   "cell_type": "code",
   "execution_count": 13,
   "metadata": {},
   "outputs": [
    {
     "name": "stderr",
     "output_type": "stream",
     "text": [
      "C:\\Users\\ASUS\\AppData\\Roaming\\Python\\Python37\\site-packages\\sklearn\\feature_extraction\\text.py:401: UserWarning: Your stop_words may be inconsistent with your preprocessing. Tokenizing the stop words generated tokens ['baiknya', 'berkali', 'kali', 'kurangnya', 'mata', 'olah', 'sekurang', 'setidak', 'tama', 'tidaknya'] not in stop_words.\n",
      "  % sorted(inconsistent)\n"
     ]
    }
   ],
   "source": [
    "text = df[\"preprocessed_text\"].values\n",
    "vect = CountVectorizer(stop_words=id_stop) # stopwords removal\n",
    "\n",
    "# Membuat BoW \n",
    "vect.fit(text)\n",
    "bow = vect.transform(text)\n",
    "\n",
    "# Atau\n",
    "bow = vect.fit_transform(text)"
   ]
  },
  {
   "cell_type": "code",
   "execution_count": 14,
   "metadata": {},
   "outputs": [
    {
     "data": {
      "text/plain": [
       "1373"
      ]
     },
     "execution_count": 14,
     "metadata": {},
     "output_type": "execute_result"
    }
   ],
   "source": [
    "# Jumlah kosakata\n",
    "len(vect.vocabulary_)"
   ]
  },
  {
   "cell_type": "code",
   "execution_count": 15,
   "metadata": {},
   "outputs": [],
   "source": [
    "# X = input data, y = output data\n",
    "X = bow\n",
    "y = df[\"sentimen\"].values"
   ]
  },
  {
   "cell_type": "markdown",
   "metadata": {},
   "source": [
    "### Data Modelling & Prediction"
   ]
  },
  {
   "cell_type": "code",
   "execution_count": 16,
   "metadata": {},
   "outputs": [
    {
     "data": {
      "text/plain": [
       "LogisticRegression()"
      ]
     },
     "execution_count": 16,
     "metadata": {},
     "output_type": "execute_result"
    }
   ],
   "source": [
    "logres = LogisticRegression()\n",
    "logres.fit(X, y)"
   ]
  },
  {
   "cell_type": "code",
   "execution_count": 17,
   "metadata": {},
   "outputs": [
    {
     "data": {
      "text/plain": [
       "0.984"
      ]
     },
     "execution_count": 17,
     "metadata": {},
     "output_type": "execute_result"
    }
   ],
   "source": [
    "# Akurasi model\n",
    "logres.score(X, y)"
   ]
  },
  {
   "cell_type": "code",
   "execution_count": 18,
   "metadata": {},
   "outputs": [],
   "source": [
    "from sklearn.pipeline import Pipeline\n",
    "\n",
    "ml_pipe = Pipeline([(\"representation\", CountVectorizer()), \n",
    "                    (\"logres\", LogisticRegression())\n",
    "                    ])"
   ]
  },
  {
   "cell_type": "code",
   "execution_count": 19,
   "metadata": {},
   "outputs": [
    {
     "data": {
      "text/plain": [
       "Pipeline(steps=[('representation', CountVectorizer()),\n",
       "                ('logres', LogisticRegression())])"
      ]
     },
     "execution_count": 19,
     "metadata": {},
     "output_type": "execute_result"
    }
   ],
   "source": [
    "ml_pipe.fit(text, y)"
   ]
  },
  {
   "cell_type": "code",
   "execution_count": 20,
   "metadata": {},
   "outputs": [
    {
     "data": {
      "text/plain": [
       "1624"
      ]
     },
     "execution_count": 20,
     "metadata": {},
     "output_type": "execute_result"
    }
   ],
   "source": [
    "# Kosakata\n",
    "len(ml_pipe.named_steps[\"representation\"].vocabulary_)"
   ]
  },
  {
   "cell_type": "code",
   "execution_count": 21,
   "metadata": {},
   "outputs": [
    {
     "data": {
      "text/plain": [
       "0.994"
      ]
     },
     "execution_count": 21,
     "metadata": {},
     "output_type": "execute_result"
    }
   ],
   "source": [
    "# Akurasi model\n",
    "ml_pipe.score(text, y)"
   ]
  },
  {
   "cell_type": "code",
   "execution_count": 22,
   "metadata": {},
   "outputs": [
    {
     "data": {
      "text/plain": [
       "array(['Low'], dtype=object)"
      ]
     },
     "execution_count": 22,
     "metadata": {},
     "output_type": "execute_result"
    }
   ],
   "source": [
    "# Prediksi sentimen\n",
    "contoh = [\"teman saya suka ngomong kasar\"]\n",
    "\n",
    "ml_pipe.predict(contoh)"
   ]
  },
  {
   "cell_type": "code",
   "execution_count": 23,
   "metadata": {},
   "outputs": [
    {
     "data": {
      "text/plain": [
       "array([[0.22614279, 0.77385721]])"
      ]
     },
     "execution_count": 23,
     "metadata": {},
     "output_type": "execute_result"
    }
   ],
   "source": [
    "ml_pipe.predict_proba(contoh)"
   ]
  },
  {
   "cell_type": "code",
   "execution_count": 24,
   "metadata": {},
   "outputs": [],
   "source": [
    "# save model\n",
    "import joblib\n",
    "pipeline_file = open(\"sentimen_classifier.pkl\",\"wb\")\n",
    "joblib.dump(ml_pipe, pipeline_file)\n",
    "pipeline_file.close()"
   ]
  },
  {
   "cell_type": "code",
   "execution_count": null,
   "metadata": {},
   "outputs": [],
   "source": []
  },
  {
   "cell_type": "code",
   "execution_count": null,
   "metadata": {},
   "outputs": [],
   "source": []
  }
 ],
 "metadata": {
  "interpreter": {
   "hash": "96469a127def15a62ded042fba5089068494d4d23c4c88339d0c2940f4c47e25"
  },
  "kernelspec": {
   "display_name": "Python 3.10.6 64-bit (windows store)",
   "language": "python",
   "name": "python3"
  },
  "language_info": {
   "codemirror_mode": {
    "name": "ipython",
    "version": 3
   },
   "file_extension": ".py",
   "mimetype": "text/x-python",
   "name": "python",
   "nbconvert_exporter": "python",
   "pygments_lexer": "ipython3",
   "version": "3.7.13"
  },
  "orig_nbformat": 4
 },
 "nbformat": 4,
 "nbformat_minor": 2
}
